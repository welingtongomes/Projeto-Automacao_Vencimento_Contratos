{
  "nbformat": 4,
  "nbformat_minor": 0,
  "metadata": {
    "colab": {
      "provenance": [],
      "authorship_tag": "ABX9TyMexXzTj7leF9SMcjWvhV0E",
      "include_colab_link": true
    },
    "kernelspec": {
      "name": "python3",
      "display_name": "Python 3"
    },
    "language_info": {
      "name": "python"
    }
  },
  "cells": [
    {
      "cell_type": "markdown",
      "metadata": {
        "id": "view-in-github",
        "colab_type": "text"
      },
      "source": [
        "<a href=\"https://colab.research.google.com/github/welingtongomes/Projeto-Automacao_Vencimento_Contratos/blob/main/Controle_CRES_VCTO.ipynb\" target=\"_parent\"><img src=\"https://colab.research.google.com/assets/colab-badge.svg\" alt=\"Open In Colab\"/></a>"
      ]
    },
    {
      "cell_type": "code",
      "execution_count": 180,
      "metadata": {
        "id": "WQ2a6PjFwNV_"
      },
      "outputs": [],
      "source": [
        "import pandas as pd\n",
        "import datetime\n",
        "import smtplib\n",
        "from email.mime.multipart import MIMEMultipart\n",
        "from email.mime.text import MIMEText\n",
        "from email.mime.application import MIMEApplication\n",
        "\n"
      ]
    },
    {
      "cell_type": "code",
      "source": [
        "df = pd.read_csv('/content/_SELECT_sfh_servidor_id_sfh_data_fim_funcao_s_funcionario_ptr_id_202306301557.csv')\n"
      ],
      "metadata": {
        "id": "24xeKzYDvJZ-"
      },
      "execution_count": 181,
      "outputs": []
    },
    {
      "cell_type": "code",
      "source": [
        "df['data_fim_funcao'] = pd.to_datetime(df['data_fim_funcao'])\n"
      ],
      "metadata": {
        "id": "ZwpzwyZCvoLX"
      },
      "execution_count": 182,
      "outputs": []
    },
    {
      "cell_type": "code",
      "source": [
        "#dia_atual = datetime.date.today()\n"
      ],
      "metadata": {
        "id": "InJdkVi1vpyY"
      },
      "execution_count": 183,
      "outputs": []
    },
    {
      "cell_type": "code",
      "source": [
        "# Calcular a data de vencimento de contratos nos próximos 15 dias\n",
        "#data_vencimento = dia_atual + datetime.timedelta(days=15)\n"
      ],
      "metadata": {
        "id": "7XVR4042vrfm"
      },
      "execution_count": 184,
      "outputs": []
    },
    {
      "cell_type": "code",
      "source": [
        "# Filtrar os contratos com vencimento nos próximos 15 dias\n",
        "#dados_filtrados = df[df['data_fim_funcao'] <= data_vencimento]"
      ],
      "metadata": {
        "id": "4tt14-7w716h"
      },
      "execution_count": 185,
      "outputs": []
    },
    {
      "cell_type": "code",
      "source": [
        "# Calcular a data atual\n",
        "data_atual = datetime.date.today()\n",
        "\n",
        "# Calcular a data de vencimento de contratos nos próximos 15 dias\n",
        "data_vencimento = data_atual + datetime.timedelta(days=15)\n",
        "\n",
        "# Filtrar os contratos com vencimento nos próximos 15 dias\n",
        "dados_filtrados = df[pd.to_datetime(df['data_fim_funcao']).dt.date <= data_vencimento]\n",
        "dados_filtrados = dados_filtrados[pd.to_datetime(dados_filtrados['data_fim_funcao']).dt.date >= data_atual]\n",
        "\n"
      ],
      "metadata": {
        "id": "BW5V8pCR8NfT"
      },
      "execution_count": 186,
      "outputs": []
    },
    {
      "cell_type": "code",
      "source": [
        "# Ordena os contratos de forma ascendente\n",
        "dados_filtrados = dados_filtrados.sort_values('data_fim_funcao')"
      ],
      "metadata": {
        "id": "w2R7fC9N_x5x"
      },
      "execution_count": 187,
      "outputs": []
    },
    {
      "cell_type": "code",
      "source": [
        "# Ajusta a coluna com vencimento de contrato para o padrão de data utilizado no Brasil\n",
        "dados_filtrados['data_fim_funcao'] = dados_filtrados['data_fim_funcao'].dt.strftime('%d-%m-%Y')"
      ],
      "metadata": {
        "id": "MDAT81uSAX8q"
      },
      "execution_count": 188,
      "outputs": []
    },
    {
      "cell_type": "code",
      "source": [
        "# Renomeia a coluna data_fim_funcao para Vencimento de Contrato\n",
        "dados_filtrados = dados_filtrados.rename(columns={'data_fim_funcao': 'Vencimento de Contrato'})\n"
      ],
      "metadata": {
        "id": "5evtBJ4H5Pe1"
      },
      "execution_count": 189,
      "outputs": []
    },
    {
      "cell_type": "code",
      "source": [
        "if not dados_filtrados.empty:\n",
        "    dados_filtrados = dados_filtrados.drop(['servidor_id', 'funcionario_ptr_id'], axis=1)\n",
        "\n",
        "\n",
        "# Salva o DataFrame como um arquivo Excel\n",
        "    contratos_vcto = '/content/arquivo.xlsx'\n",
        "    dados_filtrados.to_excel(contratos_vcto, index=False)\n",
        "\n",
        "# Configura as informações do email\n",
        "    mensagem = f\"\"\"\\\n",
        "    Prezados(as),\n",
        "\n",
        "    Segue, em anexo, relatório com os dados referente ao vencimento de contratos de Docentes e Agentes CRES nos próximos 15 dias.\n",
        "\n",
        "    Atenciosamente,\n",
        "    Welington Henrique de Almeida Gomes\n",
        "                \"\"\"\n",
        "    remetente = 'welington.gomes@uenp.edu.br'\n",
        "    senha_remetente = 'Digite Sua Senha'\n",
        "    destinatario = 'welington.gomes@outlook.com'\n",
        "    assunto = 'Relatório de Vencimento de Contratos CRES - Próximos 15 dias'\n",
        "\n",
        "# Cria um objeto MIMEMultipart para o email\n",
        "    msg = MIMEMultipart()\n",
        "    msg['From'] = remetente\n",
        "    msg['To'] = destinatario\n",
        "    msg['Subject'] = assunto\n",
        "\n",
        "# Faz a leitura do arquivo Excel em formato binário\n",
        "    with open(contratos_vcto, 'rb') as excel_file:\n",
        "      excel_data = excel_file.read()\n",
        "\n",
        "# Cria um objeto MIME application/vnd.openxmlformats-officedocument.spreadsheetml.sheet\n",
        "    excel_mime = MIMEApplication(excel_data, _subtype='vnd.openxmlformats-officedocument.spreadsheetml.sheet')\n",
        "\n",
        "# Define o nome do arquivo Excel anexado\n",
        "    excel_mime.add_header('Content-Disposition', 'attachment', filename='relatorio.xlsx')\n",
        "\n",
        "# Anexa o arquivo Excel ao email\n",
        "    msg.attach(excel_mime)\n",
        "# Adicionaa a mensagem ao corpo do email\n",
        "    msg.attach(MIMEText(mensagem, 'plain'))\n",
        "\n",
        "# Enviaa o email usando o servidor SMTP\n",
        "    server = smtplib.SMTP('smtp.gmail.com', 587)\n",
        "    server.starttls()\n",
        "    server.login(remetente, senha_remetente)\n",
        "    server.send_message(msg)\n",
        "    server.quit()\n"
      ],
      "metadata": {
        "id": "p7jv9IRZ3fYy"
      },
      "execution_count": 190,
      "outputs": []
    }
  ]
}